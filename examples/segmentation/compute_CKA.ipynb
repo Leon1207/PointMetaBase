{
 "cells": [
  {
   "cell_type": "code",
   "execution_count": 5,
   "metadata": {},
   "outputs": [],
   "source": [
    "import os\n",
    "import logging\n",
    "import tqdm\n",
    "import torch\n",
    "import sys\n",
    "import numpy as np\n",
    "sys.path.append(\"../../\")\n",
    "from CKA import cka\n",
    "from openpoints.utils import EasyConfig, cal_model_parm_nums, load_checkpoint, set_random_seed\n",
    "from openpoints.models import build_model_from_cfg\n",
    "from openpoints.dataset import build_dataloader_from_cfg, get_scene_seg_features\n",
    "\n",
    "os.environ[\"CUDA_VISIBLE_DEVICES\"] = \"3\"\n",
    "\n",
    "cfg = EasyConfig()\n",
    "cfg_path = '../../cfgs/s3dis/pointnext-l.yaml'\n",
    "cfg.load(cfg_path, recursive=True)\n",
    "cfg.seed = 1\n",
    "cfg.pretrained_path = \"/media/disk1/lhj/pointcloud/logs_exps/logs_pointnext/s3dis/s3dis-train-pointnext-l-ngpus1-seed2588-20220822-140323-YxtPD49NpuraRJ4kajD869/checkpoint/s3dis-train-pointnext-l-ngpus1-seed2588-20220822-140323-YxtPD49NpuraRJ4kajD869_ckpt_best.pth\"\n",
    "cfg.batch_size = 32\n",
    "cfg.val_batch_size = 1\n",
    "cfg.rank = 0\n",
    "cfg.distributed = False\n",
    "\n",
    "set_random_seed(cfg.seed)"
   ]
  },
  {
   "cell_type": "code",
   "execution_count": 6,
   "metadata": {},
   "outputs": [],
   "source": [
    "# @torch.no_grad()\n",
    "# def get_features(model, data_loader, cfg):\n",
    "#     model.eval()  # set model to eval mode\n",
    "#     data = next(iter(data_loader))\n",
    "#     keys = data.keys() if callable(data.keys) else data.keys\n",
    "#     for key in keys:\n",
    "#         data[key] = data[key].cuda(non_blocking=True)\n",
    "#     target = data['y'].squeeze(-1)\n",
    "#     if len(data['x'].shape) > 2:\n",
    "#         data['x'] = data['x'].transpose(1, 2)\n",
    "#     data['x'] = get_scene_seg_features(cfg.model.in_channels, data['pos'], data['x'])\n",
    "#     # logits = model(data)\n",
    "#     features = model.encoder.forward_all_features(data)\n",
    "#     return features "
   ]
  },
  {
   "cell_type": "code",
   "execution_count": 7,
   "metadata": {},
   "outputs": [
    {
     "name": "stdout",
     "output_type": "stream",
     "text": [
      "[32, 32, 13] norm: bn {'act': 'relu'}\n"
     ]
    }
   ],
   "source": [
    "## build model\n",
    "if cfg.model.get('in_channels', None) is None:\n",
    "    cfg.model.in_channels = cfg.model.encoder_args.in_channels\n",
    "model = build_model_from_cfg(cfg.model).to(cfg.rank)\n",
    "model_size = cal_model_parm_nums(model)\n",
    "logging.info(model)\n",
    "logging.info('Number of params: %.4f M' % (model_size / 1e6))\n",
    "\n",
    "## build dataset\n",
    "train_loader = build_dataloader_from_cfg(cfg.batch_size,\n",
    "                                         cfg.dataset,\n",
    "                                         cfg.dataloader,\n",
    "                                         datatransforms_cfg=cfg.datatransforms,\n",
    "                                         split='train',\n",
    "                                         distributed=cfg.distributed,\n",
    "                                         )\n",
    "# val_loader = build_dataloader_from_cfg(cfg.get('val_batch_size', cfg.batch_size),\n",
    "#                                         cfg.dataset,\n",
    "#                                         cfg.dataloader,\n",
    "#                                         datatransforms_cfg=cfg.datatransforms,\n",
    "#                                         split='val',\n",
    "#                                         distributed=cfg.distributed\n",
    "#                                         )\n",
    "data_loader = train_loader\n",
    "logging.info(f\"length of validation dataset: {len(data_loader.dataset)}\")\n",
    "num_classes = data_loader.dataset.num_classes if hasattr(data_loader.dataset, 'num_classes') else None\n",
    "if num_classes is not None:\n",
    "    assert cfg.num_classes == num_classes\n",
    "logging.info(f\"number of classes of the dataset: {num_classes}\")\n",
    "cfg.classes = data_loader.dataset.classes if hasattr(data_loader.dataset, 'classes') else np.range(num_classes)\n",
    "cfg.cmap = np.array(data_loader.dataset.cmap) if hasattr(data_loader.dataset, 'cmap') else None\n",
    "\n",
    "best_epoch, best_val = load_checkpoint(model, pretrained_path=cfg.pretrained_path)\n",
    "# features = get_features(model, data_loader, cfg)"
   ]
  },
  {
   "cell_type": "code",
   "execution_count": 8,
   "metadata": {},
   "outputs": [
    {
     "ename": "RuntimeError",
     "evalue": "CUDA out of memory. Tried to allocate 750.00 MiB (GPU 0; 39.45 GiB total capacity; 22.09 GiB already allocated; 391.31 MiB free; 22.78 GiB reserved in total by PyTorch) If reserved memory is >> allocated memory try setting max_split_size_mb to avoid fragmentation.  See documentation for Memory Management and PYTORCH_CUDA_ALLOC_CONF",
     "output_type": "error",
     "traceback": [
      "\u001b[0;31m---------------------------------------------------------------------------\u001b[0m",
      "\u001b[0;31mRuntimeError\u001b[0m                              Traceback (most recent call last)",
      "\u001b[0;32m/tmp/ipykernel_3567220/4042283775.py\u001b[0m in \u001b[0;36m<module>\u001b[0;34m\u001b[0m\n\u001b[1;32m      9\u001b[0m     \u001b[0mdata\u001b[0m\u001b[0;34m[\u001b[0m\u001b[0;34m'x'\u001b[0m\u001b[0;34m]\u001b[0m \u001b[0;34m=\u001b[0m \u001b[0mdata\u001b[0m\u001b[0;34m[\u001b[0m\u001b[0;34m'x'\u001b[0m\u001b[0;34m]\u001b[0m\u001b[0;34m.\u001b[0m\u001b[0mtranspose\u001b[0m\u001b[0;34m(\u001b[0m\u001b[0;36m1\u001b[0m\u001b[0;34m,\u001b[0m \u001b[0;36m2\u001b[0m\u001b[0;34m)\u001b[0m\u001b[0;34m\u001b[0m\u001b[0;34m\u001b[0m\u001b[0m\n\u001b[1;32m     10\u001b[0m \u001b[0mdata\u001b[0m\u001b[0;34m[\u001b[0m\u001b[0;34m'x'\u001b[0m\u001b[0;34m]\u001b[0m \u001b[0;34m=\u001b[0m \u001b[0mget_scene_seg_features\u001b[0m\u001b[0;34m(\u001b[0m\u001b[0mcfg\u001b[0m\u001b[0;34m.\u001b[0m\u001b[0mmodel\u001b[0m\u001b[0;34m.\u001b[0m\u001b[0min_channels\u001b[0m\u001b[0;34m,\u001b[0m \u001b[0mdata\u001b[0m\u001b[0;34m[\u001b[0m\u001b[0;34m'pos'\u001b[0m\u001b[0;34m]\u001b[0m\u001b[0;34m,\u001b[0m \u001b[0mdata\u001b[0m\u001b[0;34m[\u001b[0m\u001b[0;34m'x'\u001b[0m\u001b[0;34m]\u001b[0m\u001b[0;34m)\u001b[0m\u001b[0;34m\u001b[0m\u001b[0;34m\u001b[0m\u001b[0m\n\u001b[0;32m---> 11\u001b[0;31m \u001b[0m_\u001b[0m \u001b[0;34m,\u001b[0m \u001b[0mfeatures\u001b[0m \u001b[0;34m=\u001b[0m \u001b[0mmodel\u001b[0m\u001b[0;34m.\u001b[0m\u001b[0mencoder\u001b[0m\u001b[0;34m.\u001b[0m\u001b[0mforward_all_features\u001b[0m\u001b[0;34m(\u001b[0m\u001b[0mdata\u001b[0m\u001b[0;34m)\u001b[0m\u001b[0;34m;\u001b[0m \u001b[0mfeatures\u001b[0m \u001b[0;34m=\u001b[0m \u001b[0mfeatures\u001b[0m\u001b[0;34m[\u001b[0m\u001b[0;36m1\u001b[0m\u001b[0;34m:\u001b[0m\u001b[0;34m]\u001b[0m\u001b[0;34m\u001b[0m\u001b[0;34m\u001b[0m\u001b[0m\n\u001b[0m\u001b[1;32m     12\u001b[0m \u001b[0;31m# _ , features = model.encoder.forward_all_block_features(data)\u001b[0m\u001b[0;34m\u001b[0m\u001b[0;34m\u001b[0m\u001b[0;34m\u001b[0m\u001b[0m\n",
      "\u001b[0;32m~/pointcloud/PointNeXt-master/openpoints/models/backbone/pointnext.py\u001b[0m in \u001b[0;36mforward_all_features\u001b[0;34m(self, p0, x0)\u001b[0m\n\u001b[1;32m    433\u001b[0m         \u001b[0mp\u001b[0m\u001b[0;34m,\u001b[0m \u001b[0mx\u001b[0m \u001b[0;34m=\u001b[0m \u001b[0;34m[\u001b[0m\u001b[0mp0\u001b[0m\u001b[0;34m]\u001b[0m\u001b[0;34m,\u001b[0m \u001b[0;34m[\u001b[0m\u001b[0mx0\u001b[0m\u001b[0;34m]\u001b[0m\u001b[0;34m\u001b[0m\u001b[0;34m\u001b[0m\u001b[0m\n\u001b[1;32m    434\u001b[0m         \u001b[0;32mfor\u001b[0m \u001b[0mi\u001b[0m \u001b[0;32min\u001b[0m \u001b[0mrange\u001b[0m\u001b[0;34m(\u001b[0m\u001b[0;36m0\u001b[0m\u001b[0;34m,\u001b[0m \u001b[0mlen\u001b[0m\u001b[0;34m(\u001b[0m\u001b[0mself\u001b[0m\u001b[0;34m.\u001b[0m\u001b[0mencoder\u001b[0m\u001b[0;34m)\u001b[0m\u001b[0;34m)\u001b[0m\u001b[0;34m:\u001b[0m\u001b[0;34m\u001b[0m\u001b[0;34m\u001b[0m\u001b[0m\n\u001b[0;32m--> 435\u001b[0;31m             \u001b[0m_p\u001b[0m\u001b[0;34m,\u001b[0m \u001b[0m_x\u001b[0m \u001b[0;34m=\u001b[0m \u001b[0mself\u001b[0m\u001b[0;34m.\u001b[0m\u001b[0mencoder\u001b[0m\u001b[0;34m[\u001b[0m\u001b[0mi\u001b[0m\u001b[0;34m]\u001b[0m\u001b[0;34m(\u001b[0m\u001b[0;34m[\u001b[0m\u001b[0mp\u001b[0m\u001b[0;34m[\u001b[0m\u001b[0;34m-\u001b[0m\u001b[0;36m1\u001b[0m\u001b[0;34m]\u001b[0m\u001b[0;34m,\u001b[0m \u001b[0mx\u001b[0m\u001b[0;34m[\u001b[0m\u001b[0;34m-\u001b[0m\u001b[0;36m1\u001b[0m\u001b[0;34m]\u001b[0m\u001b[0;34m]\u001b[0m\u001b[0;34m)\u001b[0m\u001b[0;34m\u001b[0m\u001b[0;34m\u001b[0m\u001b[0m\n\u001b[0m\u001b[1;32m    436\u001b[0m             \u001b[0mp\u001b[0m\u001b[0;34m.\u001b[0m\u001b[0mappend\u001b[0m\u001b[0;34m(\u001b[0m\u001b[0m_p\u001b[0m\u001b[0;34m)\u001b[0m\u001b[0;34m\u001b[0m\u001b[0;34m\u001b[0m\u001b[0m\n\u001b[1;32m    437\u001b[0m             \u001b[0mx\u001b[0m\u001b[0;34m.\u001b[0m\u001b[0mappend\u001b[0m\u001b[0;34m(\u001b[0m\u001b[0m_x\u001b[0m\u001b[0;34m)\u001b[0m\u001b[0;34m\u001b[0m\u001b[0;34m\u001b[0m\u001b[0m\n",
      "\u001b[0;32m~/anaconda3/envs/openpoints/lib/python3.7/site-packages/torch/nn/modules/module.py\u001b[0m in \u001b[0;36m_call_impl\u001b[0;34m(self, *input, **kwargs)\u001b[0m\n\u001b[1;32m   1100\u001b[0m         if not (self._backward_hooks or self._forward_hooks or self._forward_pre_hooks or _global_backward_hooks\n\u001b[1;32m   1101\u001b[0m                 or _global_forward_hooks or _global_forward_pre_hooks):\n\u001b[0;32m-> 1102\u001b[0;31m             \u001b[0;32mreturn\u001b[0m \u001b[0mforward_call\u001b[0m\u001b[0;34m(\u001b[0m\u001b[0;34m*\u001b[0m\u001b[0minput\u001b[0m\u001b[0;34m,\u001b[0m \u001b[0;34m**\u001b[0m\u001b[0mkwargs\u001b[0m\u001b[0;34m)\u001b[0m\u001b[0;34m\u001b[0m\u001b[0;34m\u001b[0m\u001b[0m\n\u001b[0m\u001b[1;32m   1103\u001b[0m         \u001b[0;31m# Do not call functions when jit is used\u001b[0m\u001b[0;34m\u001b[0m\u001b[0;34m\u001b[0m\u001b[0;34m\u001b[0m\u001b[0m\n\u001b[1;32m   1104\u001b[0m         \u001b[0mfull_backward_hooks\u001b[0m\u001b[0;34m,\u001b[0m \u001b[0mnon_full_backward_hooks\u001b[0m \u001b[0;34m=\u001b[0m \u001b[0;34m[\u001b[0m\u001b[0;34m]\u001b[0m\u001b[0;34m,\u001b[0m \u001b[0;34m[\u001b[0m\u001b[0;34m]\u001b[0m\u001b[0;34m\u001b[0m\u001b[0;34m\u001b[0m\u001b[0m\n",
      "\u001b[0;32m~/anaconda3/envs/openpoints/lib/python3.7/site-packages/torch/nn/modules/container.py\u001b[0m in \u001b[0;36mforward\u001b[0;34m(self, input)\u001b[0m\n\u001b[1;32m    139\u001b[0m     \u001b[0;32mdef\u001b[0m \u001b[0mforward\u001b[0m\u001b[0;34m(\u001b[0m\u001b[0mself\u001b[0m\u001b[0;34m,\u001b[0m \u001b[0minput\u001b[0m\u001b[0;34m)\u001b[0m\u001b[0;34m:\u001b[0m\u001b[0;34m\u001b[0m\u001b[0;34m\u001b[0m\u001b[0m\n\u001b[1;32m    140\u001b[0m         \u001b[0;32mfor\u001b[0m \u001b[0mmodule\u001b[0m \u001b[0;32min\u001b[0m \u001b[0mself\u001b[0m\u001b[0;34m:\u001b[0m\u001b[0;34m\u001b[0m\u001b[0;34m\u001b[0m\u001b[0m\n\u001b[0;32m--> 141\u001b[0;31m             \u001b[0minput\u001b[0m \u001b[0;34m=\u001b[0m \u001b[0mmodule\u001b[0m\u001b[0;34m(\u001b[0m\u001b[0minput\u001b[0m\u001b[0;34m)\u001b[0m\u001b[0;34m\u001b[0m\u001b[0;34m\u001b[0m\u001b[0m\n\u001b[0m\u001b[1;32m    142\u001b[0m         \u001b[0;32mreturn\u001b[0m \u001b[0minput\u001b[0m\u001b[0;34m\u001b[0m\u001b[0;34m\u001b[0m\u001b[0m\n\u001b[1;32m    143\u001b[0m \u001b[0;34m\u001b[0m\u001b[0m\n",
      "\u001b[0;32m~/anaconda3/envs/openpoints/lib/python3.7/site-packages/torch/nn/modules/module.py\u001b[0m in \u001b[0;36m_call_impl\u001b[0;34m(self, *input, **kwargs)\u001b[0m\n\u001b[1;32m   1100\u001b[0m         if not (self._backward_hooks or self._forward_hooks or self._forward_pre_hooks or _global_backward_hooks\n\u001b[1;32m   1101\u001b[0m                 or _global_forward_hooks or _global_forward_pre_hooks):\n\u001b[0;32m-> 1102\u001b[0;31m             \u001b[0;32mreturn\u001b[0m \u001b[0mforward_call\u001b[0m\u001b[0;34m(\u001b[0m\u001b[0;34m*\u001b[0m\u001b[0minput\u001b[0m\u001b[0;34m,\u001b[0m \u001b[0;34m**\u001b[0m\u001b[0mkwargs\u001b[0m\u001b[0;34m)\u001b[0m\u001b[0;34m\u001b[0m\u001b[0;34m\u001b[0m\u001b[0m\n\u001b[0m\u001b[1;32m   1103\u001b[0m         \u001b[0;31m# Do not call functions when jit is used\u001b[0m\u001b[0;34m\u001b[0m\u001b[0;34m\u001b[0m\u001b[0;34m\u001b[0m\u001b[0m\n\u001b[1;32m   1104\u001b[0m         \u001b[0mfull_backward_hooks\u001b[0m\u001b[0;34m,\u001b[0m \u001b[0mnon_full_backward_hooks\u001b[0m \u001b[0;34m=\u001b[0m \u001b[0;34m[\u001b[0m\u001b[0;34m]\u001b[0m\u001b[0;34m,\u001b[0m \u001b[0;34m[\u001b[0m\u001b[0;34m]\u001b[0m\u001b[0;34m\u001b[0m\u001b[0;34m\u001b[0m\u001b[0m\n",
      "\u001b[0;32m~/pointcloud/PointNeXt-master/openpoints/models/backbone/pointnext.py\u001b[0m in \u001b[0;36mforward\u001b[0;34m(self, px)\u001b[0m\n\u001b[1;32m    147\u001b[0m                     x, -1, idx.unsqueeze(1).expand(-1, x.shape[1], -1))\n\u001b[1;32m    148\u001b[0m                 \u001b[0midentity\u001b[0m \u001b[0;34m=\u001b[0m \u001b[0mself\u001b[0m\u001b[0;34m.\u001b[0m\u001b[0mskipconv\u001b[0m\u001b[0;34m(\u001b[0m\u001b[0midentity\u001b[0m\u001b[0;34m)\u001b[0m\u001b[0;34m\u001b[0m\u001b[0;34m\u001b[0m\u001b[0m\n\u001b[0;32m--> 149\u001b[0;31m             \u001b[0mdp\u001b[0m\u001b[0;34m,\u001b[0m \u001b[0mxj\u001b[0m \u001b[0;34m=\u001b[0m \u001b[0mself\u001b[0m\u001b[0;34m.\u001b[0m\u001b[0mgrouper\u001b[0m\u001b[0;34m(\u001b[0m\u001b[0mnew_p\u001b[0m\u001b[0;34m,\u001b[0m \u001b[0mp\u001b[0m\u001b[0;34m,\u001b[0m \u001b[0mx\u001b[0m\u001b[0;34m)\u001b[0m\u001b[0;34m\u001b[0m\u001b[0;34m\u001b[0m\u001b[0m\n\u001b[0m\u001b[1;32m    150\u001b[0m \u001b[0;34m\u001b[0m\u001b[0m\n\u001b[1;32m    151\u001b[0m             \u001b[0mx\u001b[0m \u001b[0;34m=\u001b[0m \u001b[0mself\u001b[0m\u001b[0;34m.\u001b[0m\u001b[0mpool\u001b[0m\u001b[0;34m(\u001b[0m\u001b[0mself\u001b[0m\u001b[0;34m.\u001b[0m\u001b[0mconvs\u001b[0m\u001b[0;34m(\u001b[0m\u001b[0mtorch\u001b[0m\u001b[0;34m.\u001b[0m\u001b[0mcat\u001b[0m\u001b[0;34m(\u001b[0m\u001b[0;34m(\u001b[0m\u001b[0mdp\u001b[0m\u001b[0;34m,\u001b[0m \u001b[0mxj\u001b[0m\u001b[0;34m)\u001b[0m\u001b[0;34m,\u001b[0m \u001b[0mdim\u001b[0m\u001b[0;34m=\u001b[0m\u001b[0;36m1\u001b[0m\u001b[0;34m)\u001b[0m\u001b[0;34m)\u001b[0m\u001b[0;34m)\u001b[0m\u001b[0;34m\u001b[0m\u001b[0;34m\u001b[0m\u001b[0m\n",
      "\u001b[0;32m~/anaconda3/envs/openpoints/lib/python3.7/site-packages/torch/nn/modules/module.py\u001b[0m in \u001b[0;36m_call_impl\u001b[0;34m(self, *input, **kwargs)\u001b[0m\n\u001b[1;32m   1100\u001b[0m         if not (self._backward_hooks or self._forward_hooks or self._forward_pre_hooks or _global_backward_hooks\n\u001b[1;32m   1101\u001b[0m                 or _global_forward_hooks or _global_forward_pre_hooks):\n\u001b[0;32m-> 1102\u001b[0;31m             \u001b[0;32mreturn\u001b[0m \u001b[0mforward_call\u001b[0m\u001b[0;34m(\u001b[0m\u001b[0;34m*\u001b[0m\u001b[0minput\u001b[0m\u001b[0;34m,\u001b[0m \u001b[0;34m**\u001b[0m\u001b[0mkwargs\u001b[0m\u001b[0;34m)\u001b[0m\u001b[0;34m\u001b[0m\u001b[0;34m\u001b[0m\u001b[0m\n\u001b[0m\u001b[1;32m   1103\u001b[0m         \u001b[0;31m# Do not call functions when jit is used\u001b[0m\u001b[0;34m\u001b[0m\u001b[0;34m\u001b[0m\u001b[0;34m\u001b[0m\u001b[0m\n\u001b[1;32m   1104\u001b[0m         \u001b[0mfull_backward_hooks\u001b[0m\u001b[0;34m,\u001b[0m \u001b[0mnon_full_backward_hooks\u001b[0m \u001b[0;34m=\u001b[0m \u001b[0;34m[\u001b[0m\u001b[0;34m]\u001b[0m\u001b[0;34m,\u001b[0m \u001b[0;34m[\u001b[0m\u001b[0;34m]\u001b[0m\u001b[0;34m\u001b[0m\u001b[0;34m\u001b[0m\u001b[0m\n",
      "\u001b[0;32m~/pointcloud/PointNeXt-master/openpoints/models/layers/group.py\u001b[0m in \u001b[0;36mforward\u001b[0;34m(self, query_xyz, support_xyz, features)\u001b[0m\n\u001b[1;32m    233\u001b[0m             \u001b[0mgrouped_xyz\u001b[0m \u001b[0;34m/=\u001b[0m \u001b[0mself\u001b[0m\u001b[0;34m.\u001b[0m\u001b[0mradius\u001b[0m\u001b[0;34m\u001b[0m\u001b[0;34m\u001b[0m\u001b[0m\n\u001b[1;32m    234\u001b[0m         \u001b[0;32mif\u001b[0m \u001b[0mfeatures\u001b[0m \u001b[0;32mis\u001b[0m \u001b[0;32mnot\u001b[0m \u001b[0;32mNone\u001b[0m\u001b[0;34m:\u001b[0m\u001b[0;34m\u001b[0m\u001b[0;34m\u001b[0m\u001b[0m\n\u001b[0;32m--> 235\u001b[0;31m             \u001b[0mgrouped_features\u001b[0m \u001b[0;34m=\u001b[0m \u001b[0mgrouping_operation\u001b[0m\u001b[0;34m(\u001b[0m\u001b[0mfeatures\u001b[0m\u001b[0;34m,\u001b[0m \u001b[0midx\u001b[0m\u001b[0;34m)\u001b[0m\u001b[0;34m\u001b[0m\u001b[0;34m\u001b[0m\u001b[0m\n\u001b[0m\u001b[1;32m    236\u001b[0m             \u001b[0;32mreturn\u001b[0m \u001b[0mgrouped_xyz\u001b[0m\u001b[0;34m,\u001b[0m \u001b[0mgrouped_features\u001b[0m\u001b[0;34m\u001b[0m\u001b[0;34m\u001b[0m\u001b[0m\n\u001b[1;32m    237\u001b[0m         \u001b[0;32melse\u001b[0m\u001b[0;34m:\u001b[0m\u001b[0;34m\u001b[0m\u001b[0;34m\u001b[0m\u001b[0m\n",
      "\u001b[0;32m~/pointcloud/PointNeXt-master/openpoints/models/layers/group.py\u001b[0m in \u001b[0;36mforward\u001b[0;34m(ctx, features, idx)\u001b[0m\n\u001b[1;32m     91\u001b[0m         \u001b[0mB\u001b[0m\u001b[0;34m,\u001b[0m \u001b[0mnfeatures\u001b[0m\u001b[0;34m,\u001b[0m \u001b[0mnsample\u001b[0m \u001b[0;34m=\u001b[0m \u001b[0midx\u001b[0m\u001b[0;34m.\u001b[0m\u001b[0msize\u001b[0m\u001b[0;34m(\u001b[0m\u001b[0;34m)\u001b[0m\u001b[0;34m\u001b[0m\u001b[0;34m\u001b[0m\u001b[0m\n\u001b[1;32m     92\u001b[0m         \u001b[0m_\u001b[0m\u001b[0;34m,\u001b[0m \u001b[0mC\u001b[0m\u001b[0;34m,\u001b[0m \u001b[0mN\u001b[0m \u001b[0;34m=\u001b[0m \u001b[0mfeatures\u001b[0m\u001b[0;34m.\u001b[0m\u001b[0msize\u001b[0m\u001b[0;34m(\u001b[0m\u001b[0;34m)\u001b[0m\u001b[0;34m\u001b[0m\u001b[0;34m\u001b[0m\u001b[0m\n\u001b[0;32m---> 93\u001b[0;31m         \u001b[0moutput\u001b[0m \u001b[0;34m=\u001b[0m \u001b[0mtorch\u001b[0m\u001b[0;34m.\u001b[0m\u001b[0mcuda\u001b[0m\u001b[0;34m.\u001b[0m\u001b[0mFloatTensor\u001b[0m\u001b[0;34m(\u001b[0m\u001b[0mB\u001b[0m\u001b[0;34m,\u001b[0m \u001b[0mC\u001b[0m\u001b[0;34m,\u001b[0m \u001b[0mnfeatures\u001b[0m\u001b[0;34m,\u001b[0m \u001b[0mnsample\u001b[0m\u001b[0;34m,\u001b[0m \u001b[0mdevice\u001b[0m\u001b[0;34m=\u001b[0m\u001b[0mfeatures\u001b[0m\u001b[0;34m.\u001b[0m\u001b[0mdevice\u001b[0m\u001b[0;34m)\u001b[0m\u001b[0;34m\u001b[0m\u001b[0;34m\u001b[0m\u001b[0m\n\u001b[0m\u001b[1;32m     94\u001b[0m \u001b[0;34m\u001b[0m\u001b[0m\n\u001b[1;32m     95\u001b[0m         \u001b[0mpointnet2_cuda\u001b[0m\u001b[0;34m.\u001b[0m\u001b[0mgroup_points_wrapper\u001b[0m\u001b[0;34m(\u001b[0m\u001b[0mB\u001b[0m\u001b[0;34m,\u001b[0m \u001b[0mC\u001b[0m\u001b[0;34m,\u001b[0m \u001b[0mN\u001b[0m\u001b[0;34m,\u001b[0m \u001b[0mnfeatures\u001b[0m\u001b[0;34m,\u001b[0m \u001b[0mnsample\u001b[0m\u001b[0;34m,\u001b[0m \u001b[0mfeatures\u001b[0m\u001b[0;34m,\u001b[0m \u001b[0midx\u001b[0m\u001b[0;34m,\u001b[0m \u001b[0moutput\u001b[0m\u001b[0;34m)\u001b[0m\u001b[0;34m\u001b[0m\u001b[0;34m\u001b[0m\u001b[0m\n",
      "\u001b[0;31mRuntimeError\u001b[0m: CUDA out of memory. Tried to allocate 750.00 MiB (GPU 0; 39.45 GiB total capacity; 22.09 GiB already allocated; 391.31 MiB free; 22.78 GiB reserved in total by PyTorch) If reserved memory is >> allocated memory try setting max_split_size_mb to avoid fragmentation.  See documentation for Memory Management and PYTORCH_CUDA_ALLOC_CONF"
     ]
    }
   ],
   "source": [
    "## extract features\n",
    "model.eval()  # set model to eval mode\n",
    "data = next(iter(data_loader))\n",
    "keys = data.keys() if callable(data.keys) else data.keys\n",
    "for key in keys:\n",
    "    data[key] = data[key].cuda(non_blocking=True)\n",
    "target = data['y'].squeeze(-1)\n",
    "if len(data['x'].shape) > 2:\n",
    "    data['x'] = data['x'].transpose(1, 2)\n",
    "data['x'] = get_scene_seg_features(cfg.model.in_channels, data['pos'], data['x'])\n",
    "_ , features = model.encoder.forward_all_features(data); features = features[1:]\n",
    "# _ , features = model.encoder.forward_all_block_features(data)\n"
   ]
  },
  {
   "cell_type": "code",
   "execution_count": null,
   "metadata": {},
   "outputs": [
    {
     "name": "stdout",
     "output_type": "stream",
     "text": [
      "torch.Size([32, 4, 24000])\n"
     ]
    }
   ],
   "source": [
    "print(data['x'].shape)"
   ]
  },
  {
   "cell_type": "code",
   "execution_count": null,
   "metadata": {},
   "outputs": [
    {
     "data": {
      "text/plain": [
       "15"
      ]
     },
     "execution_count": 6,
     "metadata": {},
     "output_type": "execute_result"
    }
   ],
   "source": [
    "len(features)"
   ]
  },
  {
   "cell_type": "code",
   "execution_count": null,
   "metadata": {},
   "outputs": [
    {
     "data": {
      "text/plain": [
       "torch.Size([32, 64, 6000])"
      ]
     },
     "execution_count": 7,
     "metadata": {},
     "output_type": "execute_result"
    }
   ],
   "source": [
    "features[1].shape"
   ]
  },
  {
   "cell_type": "code",
   "execution_count": null,
   "metadata": {},
   "outputs": [
    {
     "data": {
      "text/plain": [
       "32"
      ]
     },
     "execution_count": 8,
     "metadata": {},
     "output_type": "execute_result"
    }
   ],
   "source": [
    "data['x'].size()[0]"
   ]
  },
  {
   "cell_type": "code",
   "execution_count": null,
   "metadata": {},
   "outputs": [],
   "source": [
    "## compute similar matrix\n",
    "n = data['x'].size()[0]\n",
    "for i in range(len(features)):\n",
    "    features[i] = features[i].view(n, -1)\n",
    "    features[i] = features[i].data.cpu().numpy()\n",
    "similar_matrix = np.zeros((len(features), len(features)))\n",
    "for i in range(len(features)):\n",
    "    for j in range(len(features)):\n",
    "        with torch.no_grad():\n",
    "            similar_matrix[i][j] = cka.cka(cka.gram_linear(features[i]), cka.gram_linear(features[j])) "
   ]
  },
  {
   "cell_type": "code",
   "execution_count": null,
   "metadata": {},
   "outputs": [
    {
     "data": {
      "text/plain": [
       "(32, 768000)"
      ]
     },
     "execution_count": 10,
     "metadata": {},
     "output_type": "execute_result"
    }
   ],
   "source": [
    "features[0].shape"
   ]
  },
  {
   "cell_type": "code",
   "execution_count": null,
   "metadata": {},
   "outputs": [
    {
     "data": {
      "text/plain": [
       "array([[1.        , 0.9631139 , 0.72157317, 0.69516444, 0.67457247,\n",
       "        0.66918164, 0.66561192, 0.66108084, 0.66068947, 0.662233  ,\n",
       "        0.65929544, 0.6579234 , 0.64411592, 0.6510371 , 0.64863747],\n",
       "       [0.9631139 , 1.        , 0.86520445, 0.84420699, 0.82819873,\n",
       "        0.82420838, 0.8205207 , 0.81597227, 0.81562275, 0.81626433,\n",
       "        0.81374949, 0.8131128 , 0.79865116, 0.80623996, 0.80096167],\n",
       "       [0.72157317, 0.86520445, 0.99999988, 0.99665278, 0.99340874,\n",
       "        0.99154031, 0.98894519, 0.98631388, 0.9848935 , 0.98234701,\n",
       "        0.98056018, 0.97960502, 0.96334547, 0.96986592, 0.96189165],\n",
       "       [0.69516444, 0.84420699, 0.99665278, 1.        , 0.9964481 ,\n",
       "        0.99656355, 0.99527258, 0.99332726, 0.99282128, 0.98902369,\n",
       "        0.98826909, 0.98833454, 0.96974021, 0.97631633, 0.96717703],\n",
       "       [0.67457247, 0.82819873, 0.99340874, 0.9964481 , 0.99999994,\n",
       "        0.99633819, 0.99421376, 0.99131727, 0.9893775 , 0.98815501,\n",
       "        0.98681712, 0.98595232, 0.97304988, 0.97822201, 0.96917105],\n",
       "       [0.66918164, 0.82420838, 0.99154031, 0.99656355, 0.99633819,\n",
       "        0.99999988, 0.9992519 , 0.99775088, 0.99686027, 0.99384433,\n",
       "        0.99345642, 0.99357736, 0.97635788, 0.98152429, 0.97163779],\n",
       "       [0.66561192, 0.8205207 , 0.98894519, 0.99527258, 0.99421376,\n",
       "        0.9992519 , 0.99999994, 0.99897021, 0.99823028, 0.99520504,\n",
       "        0.99505383, 0.99521154, 0.97670817, 0.98122108, 0.97115588],\n",
       "       [0.66108084, 0.81597227, 0.98631388, 0.99332726, 0.99131727,\n",
       "        0.99775088, 0.99897021, 1.        , 0.99932355, 0.99577951,\n",
       "        0.99563962, 0.99559975, 0.97619891, 0.97942287, 0.96809536],\n",
       "       [0.66068947, 0.81562275, 0.9848935 , 0.99282128, 0.9893775 ,\n",
       "        0.99686027, 0.99823028, 0.99932355, 1.        , 0.99575573,\n",
       "        0.99603438, 0.99656165, 0.97604406, 0.97975844, 0.96887708],\n",
       "       [0.662233  , 0.81626433, 0.98234701, 0.98902369, 0.98815501,\n",
       "        0.99384433, 0.99520504, 0.99577951, 0.99575573, 1.        ,\n",
       "        0.99901897, 0.9972105 , 0.98449188, 0.98333085, 0.97163945],\n",
       "       [0.65929544, 0.81374949, 0.98056018, 0.98826909, 0.98681712,\n",
       "        0.99345642, 0.99505383, 0.99563962, 0.99603438, 0.99901897,\n",
       "        1.00000012, 0.99852192, 0.98540777, 0.98517603, 0.97331053],\n",
       "       [0.6579234 , 0.8131128 , 0.97960502, 0.98833454, 0.98595232,\n",
       "        0.99357736, 0.99521154, 0.99559975, 0.99656165, 0.9972105 ,\n",
       "        0.99852192, 1.        , 0.9840278 , 0.98684323, 0.97596949],\n",
       "       [0.64411592, 0.79865116, 0.96334547, 0.96974021, 0.97304988,\n",
       "        0.97635788, 0.97670817, 0.97619891, 0.97604406, 0.98449188,\n",
       "        0.98540777, 0.9840278 , 1.00000012, 0.98961532, 0.97503519],\n",
       "       [0.6510371 , 0.80623996, 0.96986592, 0.97631633, 0.97822201,\n",
       "        0.98152429, 0.98122108, 0.97942287, 0.97975844, 0.98333085,\n",
       "        0.98517603, 0.98684323, 0.98961532, 1.        , 0.99079174],\n",
       "       [0.64863747, 0.80096167, 0.96189165, 0.96717703, 0.96917105,\n",
       "        0.97163779, 0.97115588, 0.96809536, 0.96887708, 0.97163945,\n",
       "        0.97331053, 0.97596949, 0.97503519, 0.99079174, 1.00000012]])"
      ]
     },
     "execution_count": 11,
     "metadata": {},
     "output_type": "execute_result"
    }
   ],
   "source": [
    "similar_matrix"
   ]
  },
  {
   "cell_type": "code",
   "execution_count": null,
   "metadata": {},
   "outputs": [
    {
     "data": {
      "image/png": "[encoded data removed]",
      "text/plain": [
       "<Figure size 432x288 with 2 Axes>"
      ]
     },
     "metadata": {},
     "output_type": "display_data"
    }
   ],
   "source": [
    "import numpy as np\n",
    "np.random.seed(0)\n",
    "import seaborn as sns\n",
    "sns.set_theme()\n",
    "ax = sns.heatmap(similar_matrix, vmax=1.0, vmin=0.65)\n"
   ]
  }
 ],
 "metadata": {
  "kernelspec": {
   "display_name": "Python 3.7.13 ('openpoints')",
   "language": "python",
   "name": "python3"
  },
  "language_info": {
   "codemirror_mode": {
    "name": "ipython",
    "version": 3
   },
   "file_extension": ".py",
   "mimetype": "text/x-python",
   "name": "python",
   "nbconvert_exporter": "python",
   "pygments_lexer": "ipython3",
   "version": "3.7.13"
  },
  "orig_nbformat": 4,
  "vscode": {
   "interpreter": {
    "hash": "a7550f2f3277e3264297447e9e93a39eb1ce42d4928d1ef720fcf3f63378de37"
   }
  }
 },
 "nbformat": 4,
 "nbformat_minor": 2
}
